{
 "cells": [
  {
   "cell_type": "code",
   "execution_count": 2,
   "id": "69a181fe",
   "metadata": {},
   "outputs": [],
   "source": [
    "import pandas as pd\n",
    "import tensorflow as tf\n",
    "from tensorflow import keras\n",
    "from tensorflow.keras import layers\n",
    "import numpy as np\n",
    "from sklearn.model_selection import train_test_split\n",
    "from sklearn.metrics import confusion_matrix,ConfusionMatrixDisplay\n",
    "import matplotlib\n",
    "from matplotlib import pyplot as plt"
   ]
  },
  {
   "cell_type": "code",
   "execution_count": 3,
   "id": "5c77b14d",
   "metadata": {},
   "outputs": [
    {
     "name": "stderr",
     "output_type": "stream",
     "text": [
      "C:\\Users\\harsh\\AppData\\Local\\Temp\\ipykernel_71388\\949181317.py:2: DtypeWarning: Columns (0) have mixed types. Specify dtype option on import or set low_memory=False.\n",
      "  legitimate_df = pd.read_csv('dataset\\phishing_domains.csv')\n"
     ]
    }
   ],
   "source": [
    "phishing_df = pd.read_csv('dataset\\legit_domains.csv')\n",
    "legitimate_df = pd.read_csv('dataset\\phishing_domains.csv')"
   ]
  },
  {
   "cell_type": "code",
   "execution_count": 4,
   "id": "39ed38cd",
   "metadata": {},
   "outputs": [
    {
     "data": {
      "text/plain": [
       "(26351, 71)"
      ]
     },
     "execution_count": 4,
     "metadata": {},
     "output_type": "execute_result"
    }
   ],
   "source": [
    "legitimate_df.shape"
   ]
  },
  {
   "cell_type": "code",
   "execution_count": 5,
   "id": "46b4dbe1-fa33-4026-9577-ebb25504aad9",
   "metadata": {},
   "outputs": [
    {
     "data": {
      "text/plain": [
       "array([1], dtype=int64)"
      ]
     },
     "execution_count": 5,
     "metadata": {},
     "output_type": "execute_result"
    }
   ],
   "source": [
    "legitimate_df['Label'].unique()"
   ]
  },
  {
   "cell_type": "code",
   "execution_count": 6,
   "id": "702e2a5c",
   "metadata": {},
   "outputs": [
    {
     "data": {
      "text/plain": [
       "(26303, 71)"
      ]
     },
     "execution_count": 6,
     "metadata": {},
     "output_type": "execute_result"
    }
   ],
   "source": [
    "phishing_df.shape"
   ]
  },
  {
   "cell_type": "code",
   "execution_count": 7,
   "id": "d0a5d764-b7dd-4089-a9fc-4f434440fedb",
   "metadata": {},
   "outputs": [
    {
     "data": {
      "text/plain": [
       "array([0], dtype=int64)"
      ]
     },
     "execution_count": 7,
     "metadata": {},
     "output_type": "execute_result"
    }
   ],
   "source": [
    "phishing_df['Label'].unique()"
   ]
  },
  {
   "cell_type": "code",
   "execution_count": 8,
   "id": "70399310",
   "metadata": {},
   "outputs": [],
   "source": [
    "data = pd.concat([legitimate_df, phishing_df])\n",
    "#data = data.drop('url',axis=1)\n",
    "data = data.drop(['url','NonStdPort','GoogleIndex','double_slash_redirecting','https_token'],axis=1)"
   ]
  },
  {
   "cell_type": "code",
   "execution_count": 9,
   "id": "e55c1b96-3a29-4052-9ee8-e8cce6018380",
   "metadata": {},
   "outputs": [],
   "source": [
    "# data = data.loc['number_of_special_characters','_has_ssl','number_of_name_servers','number_of_href_links',has_pop_up\thas_input\thas_password\tdomain_age\tnumber_of_subdomains\thas_favicon\tNonStdPort\tLinksInScriptTags\thas_title\thas_submit\thas_button\thas_link\thas_email_input\thas_hidden_element\thas_audio\thas_video\tnumber_of_inputs\tnumber_of_images\tnumber_of_option\tnumber_of_list\tnumber_of_TR\tnumber_of_TH\tnumber_of_paragraph\tnumber_of_script\tlength_of_title\thas_h1\thas_h2\thas_h3\tlength_of_text\tnumber_of_clickable_button\tnumber_of_a\tnumber_of_div\tnumber_of_figure\thas_footer\thas_form\thas_text_area\thas_iframe\thas_text_input\tnumber_of_meta\thas_nav\thas_object\thas_picture\tnumber_of_sources\tnumber_of_span','number_of_table','number_link','has_abnormalURL','has_dns_recording','GoogleIndex','double_slash_redirecting','domain_registration_length','statistical_report','submitting_to_email','https_token','count_redirects','has_executable_files','count_javascript_files','number_of_emails','get_ssl_update_age','get_ip_count','get_ssl_expiry_duration','number_of_smtp_servers','number_of_txt_records'\n",
    "# ]"
   ]
  },
  {
   "cell_type": "code",
   "execution_count": 10,
   "id": "c8b21383-b19b-46b5-ab9a-ab0d3595fd07",
   "metadata": {},
   "outputs": [
    {
     "data": {
      "text/plain": [
       "array([1, 0], dtype=int64)"
      ]
     },
     "execution_count": 10,
     "metadata": {},
     "output_type": "execute_result"
    }
   ],
   "source": [
    "data['Label'].unique()"
   ]
  },
  {
   "cell_type": "code",
   "execution_count": 11,
   "id": "c22d2bd9",
   "metadata": {},
   "outputs": [],
   "source": [
    "non_numeric_cols = data.select_dtypes(exclude=['number']).columns.tolist()\n",
    "data[non_numeric_cols] = data[non_numeric_cols].apply(pd.to_numeric, errors='coerce')\n",
    "data.dropna(inplace=True)"
   ]
  },
  {
   "cell_type": "code",
   "execution_count": 12,
   "id": "80913ca5",
   "metadata": {},
   "outputs": [
    {
     "data": {
      "text/plain": [
       "(52652, 65)"
      ]
     },
     "execution_count": 12,
     "metadata": {},
     "output_type": "execute_result"
    }
   ],
   "source": [
    "X = data.drop('Label', axis=1)\n",
    "y = data['Label']\n",
    "X.sample(frac=1)\n",
    "X.shape"
   ]
  },
  {
   "cell_type": "code",
   "execution_count": 13,
   "id": "d8ea599c-b621-48ad-aa5d-478a3f003797",
   "metadata": {},
   "outputs": [
    {
     "data": {
      "text/plain": [
       "(52652, 65)"
      ]
     },
     "execution_count": 13,
     "metadata": {},
     "output_type": "execute_result"
    }
   ],
   "source": [
    "X.shape"
   ]
  },
  {
   "cell_type": "code",
   "execution_count": 15,
   "id": "88ff3e3b",
   "metadata": {},
   "outputs": [],
   "source": [
    "X_train, X_test, y_train, y_test = train_test_split(X,y, test_size=0.25, random_state=0)"
   ]
  },
  {
   "cell_type": "code",
   "execution_count": 16,
   "id": "e3c68424",
   "metadata": {},
   "outputs": [
    {
     "name": "stdout",
     "output_type": "stream",
     "text": [
      "X_train: (39489, 65)\n",
      "y_train: (39489,)\n",
      "X_test: (13163, 65)\n",
      "y_test: (13163,)\n"
     ]
    }
   ],
   "source": [
    "print('X_train:',np.shape(X_train))\n",
    "print('y_train:',np.shape(y_train))\n",
    "print('X_test:',np.shape(X_test))\n",
    "print('y_test:',np.shape(y_test))"
   ]
  },
  {
   "cell_type": "code",
   "execution_count": 17,
   "id": "6564f9f0",
   "metadata": {},
   "outputs": [],
   "source": [
    "input_shape = [X_train.shape[1]]"
   ]
  },
  {
   "cell_type": "code",
   "execution_count": 18,
   "id": "7bdb766e-6d64-4a5c-8e97-adf918c173f3",
   "metadata": {},
   "outputs": [
    {
     "data": {
      "text/plain": [
       "<function reshape at 0x000001CF4AC2F0F0>"
      ]
     },
     "execution_count": 18,
     "metadata": {},
     "output_type": "execute_result"
    }
   ],
   "source": [
    "np.reshape"
   ]
  },
  {
   "cell_type": "code",
   "execution_count": 19,
   "id": "cd324cd3",
   "metadata": {},
   "outputs": [],
   "source": [
    "def ANN():\n",
    "    #structure\n",
    "    model = keras.Sequential([\n",
    "        layers.BatchNormalization(input_shape=input_shape),\n",
    "        layers.Dense(130, activation='sigmoid'),\n",
    "        layers.BatchNormalization(),\n",
    "        layers.Dropout(0.4),\n",
    "        layers.Dense(256, activation='relu'),\n",
    "        layers.BatchNormalization(),\n",
    "        layers.Dropout(0.4),\n",
    "        layers.Dense(128, activation='relu'), \n",
    "        layers.BatchNormalization(),\n",
    "        layers.Dropout(0.4),\n",
    "        layers.Dense(1, activation='sigmoid'),\n",
    "    ])\n",
    "    \n",
    "    #compile\n",
    "    model.compile(optimizer='adam',\n",
    "                loss=tf.keras.losses.BinaryCrossentropy(),\n",
    "                metrics=['binary_accuracy'])\n",
    "    \n",
    "    #summary\n",
    "    model.summary()\n",
    "    #train\n",
    "    model.fit(X_train,y_train,epochs=100)\n",
    "    return model"
   ]
  },
  {
   "cell_type": "code",
   "execution_count": 20,
   "id": "7f4ed244-35be-4179-b742-6a037c327eda",
   "metadata": {},
   "outputs": [],
   "source": [
    "# def ANN2():\n",
    "#     model = tf.keras.Sequential([\n",
    "#     #normalizer,\n",
    "#     tf.keras.layers.Normalization(\n",
    "#     axis=-1, mean=None, variance=None, invert=False),\n",
    "#     tf.keras.layers.Dense(128, activation='sigmoid'),\n",
    "#     tf.keras.layers.Dense(64, activation='sigmoid'),\n",
    "#     tf.keras.layers.Dense(32, activation='sigmoid'),\n",
    "#     tf.keras.layers.Dense(1, activation='sigmoid')\n",
    "#     ])\n",
    "\n",
    "#     model.compile(optimizer='adam',\n",
    "#                 loss=tf.keras.losses.BinaryCrossentropy(),\n",
    "#                 metrics=['accuracy'])\n",
    "#     model.summary()\n",
    "#     model.fit(X_train,y_train,epochs=100)\n",
    "#     return model\n",
    "\n",
    "\n",
    "    "
   ]
  },
  {
   "cell_type": "code",
   "execution_count": 28,
   "id": "a5299834-454d-4e78-9f97-de3ade23b90b",
   "metadata": {},
   "outputs": [
    {
     "name": "stdout",
     "output_type": "stream",
     "text": [
      "Model: \"sequential_2\"\n",
      "_________________________________________________________________\n",
      " Layer (type)                Output Shape              Param #   \n",
      "=================================================================\n",
      " batch_normalization_8 (Batc  (None, 65)               260       \n",
      " hNormalization)                                                 \n",
      "                                                                 \n",
      " dense_8 (Dense)             (None, 130)               8580      \n",
      "                                                                 \n",
      " batch_normalization_9 (Batc  (None, 130)              520       \n",
      " hNormalization)                                                 \n",
      "                                                                 \n",
      " dropout_6 (Dropout)         (None, 130)               0         \n",
      "                                                                 \n",
      " dense_9 (Dense)             (None, 256)               33536     \n",
      "                                                                 \n",
      " batch_normalization_10 (Bat  (None, 256)              1024      \n",
      " chNormalization)                                                \n",
      "                                                                 \n",
      " dropout_7 (Dropout)         (None, 256)               0         \n",
      "                                                                 \n",
      " dense_10 (Dense)            (None, 128)               32896     \n",
      "                                                                 \n",
      " batch_normalization_11 (Bat  (None, 128)              512       \n",
      " chNormalization)                                                \n",
      "                                                                 \n",
      " dropout_8 (Dropout)         (None, 128)               0         \n",
      "                                                                 \n",
      " dense_11 (Dense)            (None, 1)                 129       \n",
      "                                                                 \n",
      "=================================================================\n",
      "Total params: 77,457\n",
      "Trainable params: 76,299\n",
      "Non-trainable params: 1,158\n",
      "_________________________________________________________________\n"
     ]
    }
   ],
   "source": [
    "model = ANN()"
   ]
  },
  {
   "cell_type": "code",
   "execution_count": 55,
   "id": "cb9cd868",
   "metadata": {},
   "outputs": [
    {
     "name": "stdout",
     "output_type": "stream",
     "text": [
      "412/412 [==============================] - 1s 3ms/step - loss: 0.3312 - binary_accuracy: 0.8538\n",
      "[0.3311651945114136, 0.8538327217102051]\n",
      "Loss =  0.3311651945114136\n",
      "Accuracy =  0.8538327217102051\n"
     ]
    }
   ],
   "source": [
    "loss_and_metrics = model.evaluate(X_test, y_test)\n",
    "print(loss_and_metrics)\n",
    "print('Loss = ',loss_and_metrics[0])\n",
    "print('Accuracy = ',loss_and_metrics[1])"
   ]
  },
  {
   "cell_type": "code",
   "execution_count": 56,
   "id": "6da74410",
   "metadata": {},
   "outputs": [
    {
     "name": "stdout",
     "output_type": "stream",
     "text": [
      "412/412 [==============================] - 1s 2ms/step\n"
     ]
    }
   ],
   "source": [
    "predicted = model.predict(X_test)"
   ]
  },
  {
   "cell_type": "code",
   "execution_count": 57,
   "id": "1b6bbc2b",
   "metadata": {},
   "outputs": [
    {
     "data": {
      "text/plain": [
       "<sklearn.metrics._plot.confusion_matrix.ConfusionMatrixDisplay at 0x1e4f741b760>"
      ]
     },
     "execution_count": 57,
     "metadata": {},
     "output_type": "execute_result"
    },
    {
     "data": {
      "image/png": "[encoded data removed]",
      "text/plain": [
       "<Figure size 640x480 with 2 Axes>"
      ]
     },
     "metadata": {},
     "output_type": "display_data"
    }
   ],
   "source": [
    "predicted = tf.squeeze(predicted)\n",
    "predicted = np.array([1 if x >= 0.5 else 0 for x in predicted])\n",
    "actual = np.array(y_test)\n",
    "conf_mat = confusion_matrix(actual, predicted)\n",
    "displ = ConfusionMatrixDisplay(confusion_matrix=conf_mat)\n",
    "displ.plot()"
   ]
  },
  {
   "cell_type": "code",
   "execution_count": 48,
   "id": "1b422cc1",
   "metadata": {},
   "outputs": [],
   "source": [
    "def plot_metrics(train_metric, val_metric, metric_type):\n",
    "  # Visualize metrics vs training Epochs\n",
    "    plt.figure()\n",
    "    plt.plot(range(len(train_metric)), train_metric, label = f\"Training {metric_type}\")\n",
    "    plt.plot(range(len(val_metric)), val_metric, label = f\"Validation {metric_type}\")\n",
    "    plt.xlabel(\"Epochs\")\n",
    "    plt.ylabel(metric_type)\n",
    "    plt.legend()\n",
    "    plt.title(f\"{metric_type} vs Training epochs\");"
   ]
  },
  {
   "cell_type": "code",
   "execution_count": 65,
   "id": "abdb742f",
   "metadata": {},
   "outputs": [],
   "source": [
    "best_model = None\n",
    "best_score = 0"
   ]
  },
  {
   "cell_type": "code",
   "execution_count": 66,
   "id": "1d32f0dc",
   "metadata": {},
   "outputs": [
    {
     "name": "stderr",
     "output_type": "stream",
     "text": [
      "C:\\Users\\harsh\\AppData\\Roaming\\Python\\Python39\\site-packages\\sklearn\\neural_network\\_multilayer_perceptron.py:698: UserWarning: Training interrupted by user.\n",
      "  warnings.warn(\"Training interrupted by user.\")\n",
      "C:\\Users\\harsh\\AppData\\Roaming\\Python\\Python39\\site-packages\\sklearn\\neural_network\\_multilayer_perceptron.py:698: UserWarning: Training interrupted by user.\n",
      "  warnings.warn(\"Training interrupted by user.\")\n"
     ]
    },
    {
     "name": "stdout",
     "output_type": "stream",
     "text": [
      "Best Model: Random Forest with Accuracy: 0.8851747659850719\n"
     ]
    },
    {
     "name": "stderr",
     "output_type": "stream",
     "text": [
      "C:\\Users\\harsh\\AppData\\Roaming\\Python\\Python39\\site-packages\\sklearn\\neural_network\\_multilayer_perceptron.py:698: UserWarning: Training interrupted by user.\n",
      "  warnings.warn(\"Training interrupted by user.\")\n"
     ]
    }
   ],
   "source": [
    "for model_name, model in models.items():\n",
    "    kfold = KFold(n_splits=5, shuffle=True, random_state=42)\n",
    "    scores = cross_val_score(model, X, y, cv=kfold, scoring='accuracy')\n",
    "    mean_score = scores.mean()\n",
    "\n",
    "    if mean_score > best_score:\n",
    "        best_score = mean_score\n",
    "        best_model = model_name\n",
    "\n",
    "print(f\"Best Model: {best_model} with Accuracy: {best_score}\")"
   ]
  },
  {
   "cell_type": "code",
   "execution_count": null,
   "id": "4e2c3001-5663-4272-b6a6-cefb022bfa2d",
   "metadata": {},
   "outputs": [],
   "source": []
  }
 ],
 "metadata": {
  "kernelspec": {
   "display_name": "Python 3 (ipykernel)",
   "language": "python",
   "name": "python3"
  },
  "language_info": {
   "codemirror_mode": {
    "name": "ipython",
    "version": 3
   },
   "file_extension": ".py",
   "mimetype": "text/x-python",
   "name": "python",
   "nbconvert_exporter": "python",
   "pygments_lexer": "ipython3",
   "version": "3.9.18"
  }
 },
 "nbformat": 4,
 "nbformat_minor": 5
}
